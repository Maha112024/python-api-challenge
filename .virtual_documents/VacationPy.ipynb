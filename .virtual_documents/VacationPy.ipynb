


# Dependencies and Setup
import hvplot.pandas
import pandas as pd
import requests
import folium
# Import API key
from api_keys import geoapify_key


# Load the CSV file created in Part 1 into a Pandas DataFrame
city_data_df = pd.read_csv("output_data/cities.csv")

# Display sample data
city_data_df.head()





%%capture --no-display

# Configure the map plot

# Configure the map plot
map_plot = city_data_df.hvplot.points(
    'Lng', 'Lat',  
    size='Humidity',  
    geo=True,  
    tiles='OSM', 
    frame_width=1200,  
    frame_height=600, 
    color='Country',  
    alpha=0.6,  
    hover_cols=['City', 'Humidity']  
)

# Display the map
map_plot





# Narrow down cities that fit criteria and drop any results with null values
# Define ideal weather conditions
ideal_conditions = {
    'max_temp_min': 280,   # Minimum Max Temperature
    'max_temp_max': 300,   # Maximum Max Temperature
    'humidity_max': 70,     # Maximum Humidity
    'cloudiness_max': 20,   # Maximum Cloudiness
    'wind_speed_max': 5     # Maximum Wind Speed
}
filtered_df = city_data_df[
    (city_data_df['Max Temp'] >= ideal_conditions['max_temp_min']) &
    (city_data_df['Max Temp'] <= ideal_conditions['max_temp_max']) &
    (city_data_df['Humidity'] <= ideal_conditions['humidity_max']) &
    (city_data_df['Cloudiness'] <= ideal_conditions['cloudiness_max']) &
    (city_data_df['Wind Speed'] <= ideal_conditions['wind_speed_max'])
]


# Drop rows with any null values
cleaned_df = filtered_df.dropna()

# Display sample data
cleaned_df





# Use the Pandas copy function to create DataFrame called hotel_df to store the city, country, coordinates, and humidity
hotel_df = cleaned_df[['City', 'Country','Lat','Lng','Humidity']].copy()

# Add an empty column, "Hotel Name," to the DataFrame so you can store the hotel found using the Geoapify API
hotel_df['Hotel Name'] = '' 

# Display sample data
hotel_df





# Set parameters to search for a hotel
radius = 10000
params = {
    "apiKey":geoapify_key,
    "categories":"accommodation.hotel"
}

# Print a message to follow up the hotel search
print("Starting hotel search")

# Iterate through the hotel_df DataFrame
for index, row in hotel_df.iterrows():
    # get latitude, longitude from the DataFrame
    lat = row['Lat']
    lon = row['Lng']

    # Add the current city's latitude and longitude to the params dictionary
    params["filter"] = f"circle:{lon},{lat}"
    params["bias"] = f"circle:{lon},{lat},{radius}"

    # Set base URL
    base_url = "https://api.geoapify.com/v2/places"
   # print(f"Request URL: {base_url}?{params}")
    # Make and API request using the params dictionary
    name_address = requests.get(base_url,params=params)
    #print(f"Request URL: {base_url}?{params}")
    # Convert the API response to JSON format
    name_address = name_address.json()
    print(name_address)
    # Grab the first hotel from the results and store the name in the hotel_df DataFrame
    try:
        hotel_df.loc[index, "Hotel Name"] = name_address["features"][0]["properties"]["name"]
    except (KeyError, IndexError):
        # If no hotel is found, set the hotel name as "No hotel found".
        hotel_df.loc[index, "Hotel Name"] = "No hotel found"

    # Log the search results
    print(f"{hotel_df.loc[index, 'City']} - nearest hotel: {hotel_df.loc[index, 'Hotel Name']}")

# Display sample data
hotel_df





%%capture --no-display

# Configure the map plot
%%capture --no-display

hotel_map = hotel_df.hvplot.points(
    "Lng",
    "Lat",
    geo = True,
    tiles = "OSM",
    frame_width = 800,
    frame_height = 600,
    size = "Humidity",
    alpha =0.8,
    color = 'Country',
    hover_cols = ["Hotel Name", "Country"]
)

# Display the map
hotel_map






